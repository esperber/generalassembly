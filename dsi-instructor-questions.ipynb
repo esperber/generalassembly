{
 "cells": [
  {
   "cell_type": "markdown",
   "metadata": {},
   "source": [
    "# Instructor Task\n",
    "## Dataset\n",
    "- [Here](https://s3-us-west-2.amazonaws.com/ga-dat-2015-suneel/datasets/breast-cancer.csv) is the dataset.\n",
    "- [Here](https://archive.ics.uci.edu/ml/machine-learning-databases/breast-cancer-wisconsin/wdbc.names) is a description of the data. Ignore column 0 as it is merely the ID of a patient record."
   ]
  },
  {
   "cell_type": "code",
   "execution_count": 37,
   "metadata": {
    "collapsed": false
   },
   "outputs": [],
   "source": [
    "import pandas as pd\n",
    "import numpy as np\n",
    "import sklearn\n",
    "import matplotlib.pyplot as plt\n",
    "from sklearn import cross_validation, svm, grid_search\n",
    "from sklearn.metrics import classification_report\n",
    "from sklearn import preprocessing\n",
    "file_loc = '/Users/ericsperber/udacity/general_assembly/data.csv'\n"
   ]
  },
  {
   "cell_type": "markdown",
   "metadata": {},
   "source": [
    "## 1. Read in the data"
   ]
  },
  {
   "cell_type": "code",
   "execution_count": 23,
   "metadata": {
    "collapsed": false
   },
   "outputs": [],
   "source": [
    "data = pd.read_csv(file_loc, header=None)"
   ]
  },
  {
   "cell_type": "code",
   "execution_count": null,
   "metadata": {
    "collapsed": false
   },
   "outputs": [],
   "source": []
  },
  {
   "cell_type": "markdown",
   "metadata": {},
   "source": [
    "## 2. Separate the data into feature and target."
   ]
  },
  {
   "cell_type": "code",
   "execution_count": 24,
   "metadata": {
    "collapsed": false
   },
   "outputs": [],
   "source": [
    "\n",
    "target = np.array(data[0])\n",
    "features = np.array(data[[1,  2,  3,  4,  5,  6,  7,  8,  9, 10, 11, 12, 13, 14, 15, 16, 17, 18, \\\n",
    "        19, 20, 21, 22, 23, 24, 25, 26, 27, 28, 29, 30]])"
   ]
  },
  {
   "cell_type": "markdown",
   "metadata": {},
   "source": [
    "## 3. Create and evaluate using cross_val_score and 5 folds.\n",
    "- What is the mean accuracy?\n",
    "- What is the standard deviation of accuracy?"
   ]
  },
  {
   "cell_type": "code",
   "execution_count": 27,
   "metadata": {
    "collapsed": false
   },
   "outputs": [],
   "source": [
    "svc = svm.SVC(C=1, kernel='linear')\n",
    "kfold = cross_validation.KFold(len(data), n_folds=5, shuffle=True)\n",
    "accuracy = [svc.fit(features[train], target[train]).score(features[test], target[test]) \\\n",
    "        for train, test in kfold]"
   ]
  },
  {
   "cell_type": "code",
   "execution_count": 29,
   "metadata": {
    "collapsed": false
   },
   "outputs": [
    {
     "name": "stdout",
     "output_type": "stream",
     "text": [
      "0.956124825338\n"
     ]
    }
   ],
   "source": [
    "print np.mean(accuracy)"
   ]
  },
  {
   "cell_type": "code",
   "execution_count": 30,
   "metadata": {
    "collapsed": false
   },
   "outputs": [
    {
     "name": "stdout",
     "output_type": "stream",
     "text": [
      "0.0183705515745\n"
     ]
    }
   ],
   "source": [
    "print np.std(accuracy)"
   ]
  },
  {
   "cell_type": "markdown",
   "metadata": {},
   "source": [
    "## 4. Get a classification report to identify type 1, type 2 errors.\n",
    "- Use train_test_split to run your model once, with a test size of 0.33\n",
    "- Make predictions on the test set\n",
    "- Compare the predictions to the answers to determine the classification report"
   ]
  },
  {
   "cell_type": "code",
   "execution_count": 31,
   "metadata": {
    "collapsed": false
   },
   "outputs": [
    {
     "name": "stdout",
     "output_type": "stream",
     "text": [
      "             precision    recall  f1-score   support\n",
      "\n",
      "          B       0.99      0.96      0.98       125\n",
      "          M       0.93      0.98      0.95        63\n",
      "\n",
      "avg / total       0.97      0.97      0.97       188\n",
      "\n"
     ]
    }
   ],
   "source": [
    "train, test = cross_validation.train_test_split(data, train_size=.67)\n",
    "train_labels = np.array(train[0])\n",
    "test_labels = np.array(test[0])\n",
    "train_features = np.array(train[[1,  2,  3,  4,  5,  6,  7,  8,  9, 10, 11, 12, 13, 14, 15, 16, 17, 18, \\\n",
    "        19, 20, 21, 22, 23, 24, 25, 26, 27, 28, 29, 30]])\n",
    "test_features = np.array(test[[1,  2,  3,  4,  5,  6,  7,  8,  9, 10, 11, 12, 13, 14, 15, 16, 17, 18, \\\n",
    "        19, 20, 21, 22, 23, 24, 25, 26, 27, 28, 29, 30]])\n",
    "fitted_model = svc.fit(train_features, train_labels)\n",
    "predicted_model = svc.predict(test_features)\n",
    "print classification_report(predicted_model, test_labels)"
   ]
  },
  {
   "cell_type": "markdown",
   "metadata": {},
   "source": [
    "## 5. Scale the data and see if that improves the score."
   ]
  },
  {
   "cell_type": "code",
   "execution_count": 32,
   "metadata": {
    "collapsed": false
   },
   "outputs": [
    {
     "name": "stdout",
     "output_type": "stream",
     "text": [
      "             precision    recall  f1-score   support\n",
      "\n",
      "          B       0.99      0.97      0.98       124\n",
      "          M       0.94      0.98      0.96        64\n",
      "\n",
      "avg / total       0.97      0.97      0.97       188\n",
      "\n"
     ]
    }
   ],
   "source": [
    "scaler = preprocessing.StandardScaler().fit(train_features)\n",
    "fitted_model = svc.fit(scaler.transform(train_features), train_labels)\n",
    "predicted_model = svc.predict(scaler.transform(test_features))\n",
    "\n",
    "\n",
    "print classification_report(predicted_model, test_labels)"
   ]
  },
  {
   "cell_type": "markdown",
   "metadata": {},
   "source": [
    "## 6. Tune the model using automated parametric grid search via LogisticRegressionCV. Explain your intution behind what is being tuned."
   ]
  },
  {
   "cell_type": "markdown",
   "metadata": {},
   "source": [
    "### Q: What should we do to prevent overfitting so our model generalizes well to the test data?"
   ]
  },
  {
   "cell_type": "code",
   "execution_count": 43,
   "metadata": {
    "collapsed": false
   },
   "outputs": [],
   "source": [
    "param_grid = {'Cs': [1, 10, 100, 1000]}\n",
    "clf = grid_search.GridSearchCV(sklearn.linear_model.LogisticRegressionCV(),param_grid)\n",
    "clf = clf.fit(train_features, train_labels)\n",
    "clf_results = clf.predict(test_features)\n",
    "\n",
    "#We can prevent overfitting by not allowing the decision model to rapidly change for small variances in magnitude. \n",
    "#We are tuning the amount of regularization in the model when we change these parameters."
   ]
  },
  {
   "cell_type": "markdown",
   "metadata": {},
   "source": [
    "### Q: What was the best C?"
   ]
  },
  {
   "cell_type": "code",
   "execution_count": 39,
   "metadata": {
    "collapsed": false
   },
   "outputs": [
    {
     "name": "stdout",
     "output_type": "stream",
     "text": [
      "{'Cs': 10}\n"
     ]
    }
   ],
   "source": [
    "print clf.best_params_"
   ]
  },
  {
   "cell_type": "code",
   "execution_count": 42,
   "metadata": {
    "collapsed": false
   },
   "outputs": [
    {
     "data": {
      "text/plain": [
       "[]"
      ]
     },
     "execution_count": 42,
     "metadata": {},
     "output_type": "execute_result"
    }
   ],
   "source": [
    "ax = plt.subplot()\n",
    "ax.set_title(\"Input data\")\n",
    "# Plot the training points\n",
    "ax.scatter(test_features[:, 0], test_features[:, 1], color=[ i for i in clf_results])\n",
    "plt.plot()\n",
    "\n",
    "X = features = np.array(data[[1,  2]])\n",
    "y = [0 if x=='M' else 1 for x in np.array(data[0])]\n",
    "\n",
    "svc = svm.SVC(kernel='rbf', C=1000.0).fit(X, y)\n",
    "x_min, x_max = X[:, 0].min() - 1, X[:, 0].max() + 1\n",
    "y_min, y_max = X[:, 1].min() - 1, X[:, 1].max() + 1\n",
    "xx, yy = np.meshgrid(np.arange(x_min, x_max, .02),\n",
    "                     np.arange(y_min, y_max, .02))\n",
    "plt.subplot(2, 2, 1 + 1)\n",
    "plt.subplots_adjust(wspace=0.4, hspace=0.4)\n",
    "\n",
    "Z = svc.predict(np.c_[xx.ravel(), yy.ravel()])\n",
    "Z = Z.reshape(xx.shape)\n",
    "plt.contourf(xx, yy, Z, cmap=plt.cm.Paired, alpha=0.8)\n",
    "plt.scatter(X[:, 0], X[:, 1], c=y, cmap=plt.cm.Paired)\n",
    "plt.xlim(xx.min(), xx.max())\n",
    "plt.ylim(yy.min(), yy.max())\n",
    "plt.xticks(())\n",
    "plt.yticks(())\n",
    "plt.title('SVM')\n",
    "\n",
    "plt.show()\n",
    "plt.savefig('fig3_normalC=1000.jpg')\n",
    "\n",
    "#This graph will show the results of the LogisticRegression model above.\n",
    "#From the graph you can see that their's a fairly distinct classification curve to the model. \n",
    "\n",
    "#The second graph includes the results from using SVM models in step 4/5. \n",
    "#These graphs shows what happens as you change the C value associated with a SVM model \n",
    "#From these graphs, it becomes obvious that as you increase C, the model starts to become overfitted. "
   ]
  },
  {
   "cell_type": "markdown",
   "metadata": {},
   "source": [
    "## 8. Provide a one-sentence summary for a non-technical audience. Then provide a longer paragraph-length technical explanation.\n"
   ]
  },
  {
   "cell_type": "code",
   "execution_count": null,
   "metadata": {
    "collapsed": false
   },
   "outputs": [],
   "source": [
    "#For this exercise, we used machine learning to diagnose, at an accuracy rate of 97%, \\\n",
    "#if a tumour was benign or malignant using 30 different datapoints. \n"
   ]
  },
  {
   "cell_type": "code",
   "execution_count": null,
   "metadata": {
    "collapsed": true
   },
   "outputs": [],
   "source": [
    "#For this exercise, we had to first read in a 569*31 dataset using Pandas, a python framework. \n",
    "#Once all of our data was read in, we split out the dataset so that it contained features and labels. \n",
    "#Labels refers to the class of the row of data. Features are the other 30 columns in that row. \n",
    "#We then seperated our data in a training set(.67% of data) and a test set(.33% of the data). \n",
    "#With the training and testing sets fully flushed out, we then placed fitted the training set into a SVM model. \n",
    "#With the model fitted, we measured it against the test set to get a score of 97% accuracy. \n",
    "#We then scaled all the features within the model, ensuring each dimension is at a similar magnitude. \n",
    "#This slightly improved the accuracy of model (<1%)\n",
    "#We also put the training sets and test sets through a Logistic Regression model, that used Grid Search.\n",
    "#Grid search helped identify the ideal parameters for the model, with a C value of 10. \n",
    "#We finally created a few charts, with Matplotlib to plot our models. "
   ]
  }
 ],
 "metadata": {
  "kernelspec": {
   "display_name": "Python 2",
   "language": "python",
   "name": "python2"
  },
  "language_info": {
   "codemirror_mode": {
    "name": "ipython",
    "version": 2
   },
   "file_extension": ".py",
   "mimetype": "text/x-python",
   "name": "python",
   "nbconvert_exporter": "python",
   "pygments_lexer": "ipython2",
   "version": "2.7.10"
  }
 },
 "nbformat": 4,
 "nbformat_minor": 0
}
